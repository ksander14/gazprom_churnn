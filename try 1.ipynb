{
 "cells": [
  {
   "cell_type": "code",
   "execution_count": 1,
   "metadata": {
    "collapsed": true
   },
   "outputs": [],
   "source": [
    "import pandas as pd"
   ]
  },
  {
   "cell_type": "code",
   "execution_count": 2,
   "metadata": {},
   "outputs": [
    {
     "name": "stderr",
     "output_type": "stream",
     "text": [
      "/Applications/anaconda/lib/python3.5/site-packages/IPython/core/interactiveshell.py:2717: DtypeWarning: Columns (12) have mixed types. Specify dtype option on import or set low_memory=False.\n",
      "  interactivity=interactivity, compiler=compiler, result=result)\n"
     ]
    },
    {
     "data": {
      "text/html": [
       "<div>\n",
       "<table border=\"1\" class=\"dataframe\">\n",
       "  <thead>\n",
       "    <tr style=\"text-align: right;\">\n",
       "      <th></th>\n",
       "      <th>time</th>\n",
       "      <th>date</th>\n",
       "      <th>v_l</th>\n",
       "      <th>q</th>\n",
       "      <th>n_tr</th>\n",
       "      <th>sum_b</th>\n",
       "      <th>code_azs</th>\n",
       "      <th>id</th>\n",
       "      <th>first_prch</th>\n",
       "      <th>location</th>\n",
       "      <th>region</th>\n",
       "      <th>code</th>\n",
       "      <th>code1</th>\n",
       "      <th>percent</th>\n",
       "      <th>type</th>\n",
       "    </tr>\n",
       "  </thead>\n",
       "  <tbody>\n",
       "    <tr>\n",
       "      <th>0</th>\n",
       "      <td>NaN</td>\n",
       "      <td>2016-12-28</td>\n",
       "      <td>30.46</td>\n",
       "      <td>0</td>\n",
       "      <td>2016</td>\n",
       "      <td>1090.60</td>\n",
       "      <td>5915.0</td>\n",
       "      <td>21-8B2-7695</td>\n",
       "      <td>27.12.16 23:06:11</td>\n",
       "      <td>10.0</td>\n",
       "      <td>454.5</td>\n",
       "      <td>1010121</td>\n",
       "      <td>126.0</td>\n",
       "      <td>0.0</td>\n",
       "      <td>5</td>\n",
       "    </tr>\n",
       "    <tr>\n",
       "      <th>1</th>\n",
       "      <td>NaN</td>\n",
       "      <td>2016-12-27</td>\n",
       "      <td>0.00</td>\n",
       "      <td>1</td>\n",
       "      <td>2016</td>\n",
       "      <td>180.91</td>\n",
       "      <td>5915.0</td>\n",
       "      <td>21-8B2-7695</td>\n",
       "      <td>27.12.16 23:06:11</td>\n",
       "      <td>10.0</td>\n",
       "      <td>454.5</td>\n",
       "      <td>2230000</td>\n",
       "      <td>164.0</td>\n",
       "      <td>0.0</td>\n",
       "      <td>6</td>\n",
       "    </tr>\n",
       "    <tr>\n",
       "      <th>2</th>\n",
       "      <td>NaN</td>\n",
       "      <td>2016-12-27</td>\n",
       "      <td>35.60</td>\n",
       "      <td>0</td>\n",
       "      <td>2016</td>\n",
       "      <td>1363.48</td>\n",
       "      <td>5915.0</td>\n",
       "      <td>21-8B2-7695</td>\n",
       "      <td>27.12.16 23:06:11</td>\n",
       "      <td>10.0</td>\n",
       "      <td>454.5</td>\n",
       "      <td>1010131</td>\n",
       "      <td>128.0</td>\n",
       "      <td>0.0</td>\n",
       "      <td>13</td>\n",
       "    </tr>\n",
       "    <tr>\n",
       "      <th>3</th>\n",
       "      <td>08:24:24</td>\n",
       "      <td>2017-10-23</td>\n",
       "      <td>31.01</td>\n",
       "      <td>0</td>\n",
       "      <td>2017</td>\n",
       "      <td>1181.45</td>\n",
       "      <td>5915.0</td>\n",
       "      <td>21-8B2-7695</td>\n",
       "      <td>27.12.16 23:06:11</td>\n",
       "      <td>10.0</td>\n",
       "      <td>454.5</td>\n",
       "      <td>1010121</td>\n",
       "      <td>126.0</td>\n",
       "      <td>0.0</td>\n",
       "      <td>7</td>\n",
       "    </tr>\n",
       "    <tr>\n",
       "      <th>4</th>\n",
       "      <td>NaN</td>\n",
       "      <td>2017-03-19</td>\n",
       "      <td>51.95</td>\n",
       "      <td>0</td>\n",
       "      <td>2017</td>\n",
       "      <td>1818.09</td>\n",
       "      <td>2418.0</td>\n",
       "      <td>21-8B2-7695</td>\n",
       "      <td>27.12.16 23:06:11</td>\n",
       "      <td>9.0</td>\n",
       "      <td>454.0</td>\n",
       "      <td>1010121</td>\n",
       "      <td>126.0</td>\n",
       "      <td>0.0</td>\n",
       "      <td>5</td>\n",
       "    </tr>\n",
       "  </tbody>\n",
       "</table>\n",
       "</div>"
      ],
      "text/plain": [
       "       time        date    v_l  q  n_tr    sum_b  code_azs           id  \\\n",
       "0       NaN  2016-12-28  30.46  0  2016  1090.60    5915.0  21-8B2-7695   \n",
       "1       NaN  2016-12-27   0.00  1  2016   180.91    5915.0  21-8B2-7695   \n",
       "2       NaN  2016-12-27  35.60  0  2016  1363.48    5915.0  21-8B2-7695   \n",
       "3  08:24:24  2017-10-23  31.01  0  2017  1181.45    5915.0  21-8B2-7695   \n",
       "4       NaN  2017-03-19  51.95  0  2017  1818.09    2418.0  21-8B2-7695   \n",
       "\n",
       "          first_prch  location  region     code  code1  percent  type  \n",
       "0  27.12.16 23:06:11      10.0   454.5  1010121  126.0      0.0     5  \n",
       "1  27.12.16 23:06:11      10.0   454.5  2230000  164.0      0.0     6  \n",
       "2  27.12.16 23:06:11      10.0   454.5  1010131  128.0      0.0    13  \n",
       "3  27.12.16 23:06:11      10.0   454.5  1010121  126.0      0.0     7  \n",
       "4  27.12.16 23:06:11       9.0   454.0  1010121  126.0      0.0     5  "
      ]
     },
     "execution_count": 2,
     "metadata": {},
     "output_type": "execute_result"
    }
   ],
   "source": [
    "df_train = pd.read_csv('train_data.csv')\n",
    "df_train.drop('Unnamed: 0', axis=1, inplace=True)\n",
    "df_train.head()"
   ]
  },
  {
   "cell_type": "code",
   "execution_count": 3,
   "metadata": {},
   "outputs": [
    {
     "data": {
      "text/plain": [
       "5563602"
      ]
     },
     "execution_count": 3,
     "metadata": {},
     "output_type": "execute_result"
    }
   ],
   "source": [
    "len(df_train)"
   ]
  },
  {
   "cell_type": "code",
   "execution_count": null,
   "metadata": {
    "collapsed": true
   },
   "outputs": [],
   "source": []
  },
  {
   "cell_type": "code",
   "execution_count": 124,
   "metadata": {},
   "outputs": [
    {
     "name": "stdout",
     "output_type": "stream",
     "text": [
      "31122\n"
     ]
    },
    {
     "data": {
      "text/html": [
       "<div>\n",
       "<table border=\"1\" class=\"dataframe\">\n",
       "  <thead>\n",
       "    <tr style=\"text-align: right;\">\n",
       "      <th></th>\n",
       "      <th>id</th>\n",
       "      <th>proba</th>\n",
       "    </tr>\n",
       "  </thead>\n",
       "  <tbody>\n",
       "    <tr>\n",
       "      <th>0</th>\n",
       "      <td>21-186G-1142</td>\n",
       "      <td>0.5</td>\n",
       "    </tr>\n",
       "    <tr>\n",
       "      <th>1</th>\n",
       "      <td>21-186G-1227</td>\n",
       "      <td>0.5</td>\n",
       "    </tr>\n",
       "    <tr>\n",
       "      <th>2</th>\n",
       "      <td>21-186G-1306</td>\n",
       "      <td>0.5</td>\n",
       "    </tr>\n",
       "    <tr>\n",
       "      <th>3</th>\n",
       "      <td>21-186G-1310</td>\n",
       "      <td>0.5</td>\n",
       "    </tr>\n",
       "    <tr>\n",
       "      <th>4</th>\n",
       "      <td>21-186G-1358</td>\n",
       "      <td>0.5</td>\n",
       "    </tr>\n",
       "  </tbody>\n",
       "</table>\n",
       "</div>"
      ],
      "text/plain": [
       "             id  proba\n",
       "0  21-186G-1142    0.5\n",
       "1  21-186G-1227    0.5\n",
       "2  21-186G-1306    0.5\n",
       "3  21-186G-1310    0.5\n",
       "4  21-186G-1358    0.5"
      ]
     },
     "execution_count": 124,
     "metadata": {},
     "output_type": "execute_result"
    }
   ],
   "source": [
    "subm = pd.read_csv('sample_submission.csv')\n",
    "print(len(subm))\n",
    "subm.head()"
   ]
  },
  {
   "cell_type": "code",
   "execution_count": 6,
   "metadata": {},
   "outputs": [
    {
     "data": {
      "text/html": [
       "<div>\n",
       "<table border=\"1\" class=\"dataframe\">\n",
       "  <thead>\n",
       "    <tr style=\"text-align: right;\">\n",
       "      <th></th>\n",
       "      <th>time</th>\n",
       "      <th>date</th>\n",
       "      <th>v_l</th>\n",
       "      <th>q</th>\n",
       "      <th>n_tr</th>\n",
       "      <th>sum_b</th>\n",
       "      <th>code_azs</th>\n",
       "      <th>id</th>\n",
       "      <th>first_prch</th>\n",
       "      <th>location</th>\n",
       "      <th>region</th>\n",
       "      <th>code</th>\n",
       "      <th>code1</th>\n",
       "      <th>percent</th>\n",
       "      <th>type</th>\n",
       "    </tr>\n",
       "  </thead>\n",
       "  <tbody>\n",
       "    <tr>\n",
       "      <th>0</th>\n",
       "      <td>NaN</td>\n",
       "      <td>2016-12-28</td>\n",
       "      <td>30.46</td>\n",
       "      <td>0</td>\n",
       "      <td>2016</td>\n",
       "      <td>1090.60</td>\n",
       "      <td>5915.0</td>\n",
       "      <td>21-8B2-7695</td>\n",
       "      <td>27.12.16 23:06:11</td>\n",
       "      <td>10.0</td>\n",
       "      <td>454.5</td>\n",
       "      <td>1010121</td>\n",
       "      <td>126.0</td>\n",
       "      <td>0.0</td>\n",
       "      <td>5</td>\n",
       "    </tr>\n",
       "    <tr>\n",
       "      <th>1</th>\n",
       "      <td>NaN</td>\n",
       "      <td>2016-12-27</td>\n",
       "      <td>0.00</td>\n",
       "      <td>1</td>\n",
       "      <td>2016</td>\n",
       "      <td>180.91</td>\n",
       "      <td>5915.0</td>\n",
       "      <td>21-8B2-7695</td>\n",
       "      <td>27.12.16 23:06:11</td>\n",
       "      <td>10.0</td>\n",
       "      <td>454.5</td>\n",
       "      <td>2230000</td>\n",
       "      <td>164.0</td>\n",
       "      <td>0.0</td>\n",
       "      <td>6</td>\n",
       "    </tr>\n",
       "    <tr>\n",
       "      <th>2</th>\n",
       "      <td>NaN</td>\n",
       "      <td>2016-12-27</td>\n",
       "      <td>35.60</td>\n",
       "      <td>0</td>\n",
       "      <td>2016</td>\n",
       "      <td>1363.48</td>\n",
       "      <td>5915.0</td>\n",
       "      <td>21-8B2-7695</td>\n",
       "      <td>27.12.16 23:06:11</td>\n",
       "      <td>10.0</td>\n",
       "      <td>454.5</td>\n",
       "      <td>1010131</td>\n",
       "      <td>128.0</td>\n",
       "      <td>0.0</td>\n",
       "      <td>13</td>\n",
       "    </tr>\n",
       "    <tr>\n",
       "      <th>3</th>\n",
       "      <td>08:24:24</td>\n",
       "      <td>2017-10-23</td>\n",
       "      <td>31.01</td>\n",
       "      <td>0</td>\n",
       "      <td>2017</td>\n",
       "      <td>1181.45</td>\n",
       "      <td>5915.0</td>\n",
       "      <td>21-8B2-7695</td>\n",
       "      <td>27.12.16 23:06:11</td>\n",
       "      <td>10.0</td>\n",
       "      <td>454.5</td>\n",
       "      <td>1010121</td>\n",
       "      <td>126.0</td>\n",
       "      <td>0.0</td>\n",
       "      <td>7</td>\n",
       "    </tr>\n",
       "    <tr>\n",
       "      <th>4</th>\n",
       "      <td>NaN</td>\n",
       "      <td>2017-03-19</td>\n",
       "      <td>51.95</td>\n",
       "      <td>0</td>\n",
       "      <td>2017</td>\n",
       "      <td>1818.09</td>\n",
       "      <td>2418.0</td>\n",
       "      <td>21-8B2-7695</td>\n",
       "      <td>27.12.16 23:06:11</td>\n",
       "      <td>9.0</td>\n",
       "      <td>454.0</td>\n",
       "      <td>1010121</td>\n",
       "      <td>126.0</td>\n",
       "      <td>0.0</td>\n",
       "      <td>5</td>\n",
       "    </tr>\n",
       "  </tbody>\n",
       "</table>\n",
       "</div>"
      ],
      "text/plain": [
       "       time        date    v_l  q  n_tr    sum_b  code_azs           id  \\\n",
       "0       NaN  2016-12-28  30.46  0  2016  1090.60    5915.0  21-8B2-7695   \n",
       "1       NaN  2016-12-27   0.00  1  2016   180.91    5915.0  21-8B2-7695   \n",
       "2       NaN  2016-12-27  35.60  0  2016  1363.48    5915.0  21-8B2-7695   \n",
       "3  08:24:24  2017-10-23  31.01  0  2017  1181.45    5915.0  21-8B2-7695   \n",
       "4       NaN  2017-03-19  51.95  0  2017  1818.09    2418.0  21-8B2-7695   \n",
       "\n",
       "          first_prch  location  region     code  code1  percent  type  \n",
       "0  27.12.16 23:06:11      10.0   454.5  1010121  126.0      0.0     5  \n",
       "1  27.12.16 23:06:11      10.0   454.5  2230000  164.0      0.0     6  \n",
       "2  27.12.16 23:06:11      10.0   454.5  1010131  128.0      0.0    13  \n",
       "3  27.12.16 23:06:11      10.0   454.5  1010121  126.0      0.0     7  \n",
       "4  27.12.16 23:06:11       9.0   454.0  1010121  126.0      0.0     5  "
      ]
     },
     "execution_count": 6,
     "metadata": {},
     "output_type": "execute_result"
    }
   ],
   "source": [
    "df_train.head()"
   ]
  },
  {
   "cell_type": "code",
   "execution_count": 116,
   "metadata": {},
   "outputs": [
    {
     "name": "stdout",
     "output_type": "stream",
     "text": [
      "2016-01-01\n",
      "2017-12-31\n"
     ]
    }
   ],
   "source": [
    "print(df_train['date'].min())\n",
    "print(df_train['date'].max())"
   ]
  },
  {
   "cell_type": "code",
   "execution_count": 117,
   "metadata": {},
   "outputs": [
    {
     "name": "stdout",
     "output_type": "stream",
     "text": [
      "2016-01-01\n",
      "2017-11-30\n"
     ]
    }
   ],
   "source": [
    "print(df_test['date'].min())\n",
    "print(df_test['date'].max())"
   ]
  },
  {
   "cell_type": "code",
   "execution_count": 59,
   "metadata": {
    "collapsed": true
   },
   "outputs": [],
   "source": [
    "train = df_train[(df_train.date >= '2017-11-01') & (df_train.date <= '2017-11-30')]\n",
    "test = df_train[(df_train.date >= '2017-12-01') & (df_train.date <= '2017-12-31')]"
   ]
  },
  {
   "cell_type": "code",
   "execution_count": 60,
   "metadata": {},
   "outputs": [
    {
     "data": {
      "text/html": [
       "<div>\n",
       "<table border=\"1\" class=\"dataframe\">\n",
       "  <thead>\n",
       "    <tr style=\"text-align: right;\">\n",
       "      <th></th>\n",
       "      <th>q</th>\n",
       "      <th>v_l</th>\n",
       "      <th>sum_b</th>\n",
       "      <th>percent</th>\n",
       "    </tr>\n",
       "    <tr>\n",
       "      <th>id</th>\n",
       "      <th></th>\n",
       "      <th></th>\n",
       "      <th></th>\n",
       "      <th></th>\n",
       "    </tr>\n",
       "  </thead>\n",
       "  <tbody>\n",
       "    <tr>\n",
       "      <th>21-186G-1172</th>\n",
       "      <td>0</td>\n",
       "      <td>123.24</td>\n",
       "      <td>4409.81</td>\n",
       "      <td>1.14</td>\n",
       "    </tr>\n",
       "    <tr>\n",
       "      <th>21-186G-1190</th>\n",
       "      <td>0</td>\n",
       "      <td>42.76</td>\n",
       "      <td>1545.69</td>\n",
       "      <td>0.25</td>\n",
       "    </tr>\n",
       "    <tr>\n",
       "      <th>21-186G-1193</th>\n",
       "      <td>1</td>\n",
       "      <td>20.92</td>\n",
       "      <td>845.79</td>\n",
       "      <td>0.00</td>\n",
       "    </tr>\n",
       "    <tr>\n",
       "      <th>21-186G-12</th>\n",
       "      <td>0</td>\n",
       "      <td>114.72</td>\n",
       "      <td>4288.22</td>\n",
       "      <td>859.73</td>\n",
       "    </tr>\n",
       "    <tr>\n",
       "      <th>21-186G-1201</th>\n",
       "      <td>0</td>\n",
       "      <td>24.56</td>\n",
       "      <td>908.85</td>\n",
       "      <td>0.00</td>\n",
       "    </tr>\n",
       "  </tbody>\n",
       "</table>\n",
       "</div>"
      ],
      "text/plain": [
       "              q     v_l    sum_b  percent\n",
       "id                                       \n",
       "21-186G-1172  0  123.24  4409.81     1.14\n",
       "21-186G-1190  0   42.76  1545.69     0.25\n",
       "21-186G-1193  1   20.92   845.79     0.00\n",
       "21-186G-12    0  114.72  4288.22   859.73\n",
       "21-186G-1201  0   24.56   908.85     0.00"
      ]
     },
     "execution_count": 60,
     "metadata": {},
     "output_type": "execute_result"
    }
   ],
   "source": [
    "agg_train = train.groupby('id')['q', 'v_l', 'sum_b', 'percent'].sum()\n",
    "agg_train.head()"
   ]
  },
  {
   "cell_type": "code",
   "execution_count": 77,
   "metadata": {},
   "outputs": [
    {
     "data": {
      "text/plain": [
       "7177"
      ]
     },
     "execution_count": 77,
     "metadata": {},
     "output_type": "execute_result"
    }
   ],
   "source": [
    "#agg_target = agg_train.index.isin(test['id'])\n",
    "len(agg_target[agg_target == False])"
   ]
  },
  {
   "cell_type": "code",
   "execution_count": 78,
   "metadata": {},
   "outputs": [
    {
     "data": {
      "text/plain": [
       "52721"
      ]
     },
     "execution_count": 78,
     "metadata": {},
     "output_type": "execute_result"
    }
   ],
   "source": [
    "len(agg_target)"
   ]
  },
  {
   "cell_type": "code",
   "execution_count": 62,
   "metadata": {
    "collapsed": true
   },
   "outputs": [],
   "source": [
    "import warnings\n",
    "warnings.filterwarnings(\"ignore\", category=DeprecationWarning) "
   ]
  },
  {
   "cell_type": "code",
   "execution_count": 63,
   "metadata": {
    "collapsed": true
   },
   "outputs": [],
   "source": [
    "from sklearn.ensemble import RandomForestClassifier\n",
    "from sklearn.model_selection import cross_val_score"
   ]
  },
  {
   "cell_type": "code",
   "execution_count": 91,
   "metadata": {},
   "outputs": [
    {
     "data": {
      "text/plain": [
       "RandomForestClassifier(bootstrap=True, class_weight=None, criterion='gini',\n",
       "            max_depth=4, max_features='auto', max_leaf_nodes=None,\n",
       "            min_impurity_split=1e-07, min_samples_leaf=1,\n",
       "            min_samples_split=2, min_weight_fraction_leaf=0.0,\n",
       "            n_estimators=10, n_jobs=1, oob_score=False, random_state=0,\n",
       "            verbose=0, warm_start=False)"
      ]
     },
     "execution_count": 91,
     "metadata": {},
     "output_type": "execute_result"
    }
   ],
   "source": [
    "clf = RandomForestClassifier(max_depth=4, random_state=0)\n",
    "clf.fit(agg_train, agg_target)"
   ]
  },
  {
   "cell_type": "code",
   "execution_count": 92,
   "metadata": {},
   "outputs": [
    {
     "data": {
      "text/plain": [
       "0.86386828882631361"
      ]
     },
     "execution_count": 92,
     "metadata": {},
     "output_type": "execute_result"
    }
   ],
   "source": [
    "cross_val_score(clf, agg_train, agg_target).mean()"
   ]
  },
  {
   "cell_type": "code",
   "execution_count": 93,
   "metadata": {},
   "outputs": [
    {
     "name": "stderr",
     "output_type": "stream",
     "text": [
      "/Applications/anaconda/lib/python3.5/site-packages/IPython/core/interactiveshell.py:2717: DtypeWarning: Columns (12) have mixed types. Specify dtype option on import or set low_memory=False.\n",
      "  interactivity=interactivity, compiler=compiler, result=result)\n"
     ]
    },
    {
     "data": {
      "text/html": [
       "<div>\n",
       "<table border=\"1\" class=\"dataframe\">\n",
       "  <thead>\n",
       "    <tr style=\"text-align: right;\">\n",
       "      <th></th>\n",
       "      <th>time</th>\n",
       "      <th>date</th>\n",
       "      <th>v_l</th>\n",
       "      <th>q</th>\n",
       "      <th>n_tr</th>\n",
       "      <th>sum_b</th>\n",
       "      <th>code_azs</th>\n",
       "      <th>id</th>\n",
       "      <th>first_prch</th>\n",
       "      <th>location</th>\n",
       "      <th>region</th>\n",
       "      <th>code</th>\n",
       "      <th>code1</th>\n",
       "      <th>percent</th>\n",
       "      <th>type</th>\n",
       "    </tr>\n",
       "  </thead>\n",
       "  <tbody>\n",
       "    <tr>\n",
       "      <th>0</th>\n",
       "      <td>21:23:27</td>\n",
       "      <td>2017-08-12</td>\n",
       "      <td>11.89</td>\n",
       "      <td>0</td>\n",
       "      <td>2017</td>\n",
       "      <td>454.83</td>\n",
       "      <td>11125.0</td>\n",
       "      <td>21-8AD-19813</td>\n",
       "      <td>12.01.16 16:12:54</td>\n",
       "      <td>9.0</td>\n",
       "      <td>436.0</td>\n",
       "      <td>01010211</td>\n",
       "      <td>152.0</td>\n",
       "      <td>0.00</td>\n",
       "      <td>7</td>\n",
       "    </tr>\n",
       "    <tr>\n",
       "      <th>1</th>\n",
       "      <td>08:58:01</td>\n",
       "      <td>2016-05-10</td>\n",
       "      <td>12.32</td>\n",
       "      <td>0</td>\n",
       "      <td>2016</td>\n",
       "      <td>454.54</td>\n",
       "      <td>2388.0</td>\n",
       "      <td>21-8AH-16987</td>\n",
       "      <td>02.01.16 09:59:24</td>\n",
       "      <td>11.0</td>\n",
       "      <td>454.0</td>\n",
       "      <td>01010131</td>\n",
       "      <td>128.0</td>\n",
       "      <td>13.63</td>\n",
       "      <td>13</td>\n",
       "    </tr>\n",
       "    <tr>\n",
       "      <th>2</th>\n",
       "      <td>17:33:27</td>\n",
       "      <td>2017-07-26</td>\n",
       "      <td>45.36</td>\n",
       "      <td>0</td>\n",
       "      <td>2017</td>\n",
       "      <td>1863.99</td>\n",
       "      <td>1716.0</td>\n",
       "      <td>21-8B0-11899</td>\n",
       "      <td>03.01.16 14:33:09</td>\n",
       "      <td>9.0</td>\n",
       "      <td>430.0</td>\n",
       "      <td>01010132</td>\n",
       "      <td>132.0</td>\n",
       "      <td>0.00</td>\n",
       "      <td>7</td>\n",
       "    </tr>\n",
       "    <tr>\n",
       "      <th>3</th>\n",
       "      <td>NaN</td>\n",
       "      <td>2016-09-05</td>\n",
       "      <td>7.84</td>\n",
       "      <td>0</td>\n",
       "      <td>2016</td>\n",
       "      <td>263.69</td>\n",
       "      <td>3246.0</td>\n",
       "      <td>21-8AF-17077</td>\n",
       "      <td>12.05.15 03:24:33</td>\n",
       "      <td>6.0</td>\n",
       "      <td>458.0</td>\n",
       "      <td>01010121</td>\n",
       "      <td>126.0</td>\n",
       "      <td>0.00</td>\n",
       "      <td>5</td>\n",
       "    </tr>\n",
       "    <tr>\n",
       "      <th>4</th>\n",
       "      <td>NaN</td>\n",
       "      <td>2017-06-10</td>\n",
       "      <td>0.00</td>\n",
       "      <td>1</td>\n",
       "      <td>2017</td>\n",
       "      <td>53.64</td>\n",
       "      <td>3303.0</td>\n",
       "      <td>21-8AN-4584</td>\n",
       "      <td>04.01.16 18:55:55</td>\n",
       "      <td>5.0</td>\n",
       "      <td>459.0</td>\n",
       "      <td>02300000</td>\n",
       "      <td>234.0</td>\n",
       "      <td>0.00</td>\n",
       "      <td>6</td>\n",
       "    </tr>\n",
       "  </tbody>\n",
       "</table>\n",
       "</div>"
      ],
      "text/plain": [
       "       time        date    v_l  q  n_tr    sum_b  code_azs            id  \\\n",
       "0  21:23:27  2017-08-12  11.89  0  2017   454.83   11125.0  21-8AD-19813   \n",
       "1  08:58:01  2016-05-10  12.32  0  2016   454.54    2388.0  21-8AH-16987   \n",
       "2  17:33:27  2017-07-26  45.36  0  2017  1863.99    1716.0  21-8B0-11899   \n",
       "3       NaN  2016-09-05   7.84  0  2016   263.69    3246.0  21-8AF-17077   \n",
       "4       NaN  2017-06-10   0.00  1  2017    53.64    3303.0   21-8AN-4584   \n",
       "\n",
       "          first_prch  location  region      code  code1  percent  type  \n",
       "0  12.01.16 16:12:54       9.0   436.0  01010211  152.0     0.00     7  \n",
       "1  02.01.16 09:59:24      11.0   454.0  01010131  128.0    13.63    13  \n",
       "2  03.01.16 14:33:09       9.0   430.0  01010132  132.0     0.00     7  \n",
       "3  12.05.15 03:24:33       6.0   458.0  01010121  126.0     0.00     5  \n",
       "4  04.01.16 18:55:55       5.0   459.0  02300000  234.0     0.00     6  "
      ]
     },
     "execution_count": 93,
     "metadata": {},
     "output_type": "execute_result"
    }
   ],
   "source": [
    "df_test = pd.read_csv('test_data.csv')\n",
    "df_test.drop('Unnamed: 0', axis=1, inplace=True)\n",
    "df_test.head()"
   ]
  },
  {
   "cell_type": "code",
   "execution_count": 94,
   "metadata": {},
   "outputs": [
    {
     "data": {
      "text/html": [
       "<div>\n",
       "<table border=\"1\" class=\"dataframe\">\n",
       "  <thead>\n",
       "    <tr style=\"text-align: right;\">\n",
       "      <th></th>\n",
       "      <th>q</th>\n",
       "      <th>v_l</th>\n",
       "      <th>sum_b</th>\n",
       "      <th>percent</th>\n",
       "    </tr>\n",
       "    <tr>\n",
       "      <th>id</th>\n",
       "      <th></th>\n",
       "      <th></th>\n",
       "      <th></th>\n",
       "      <th></th>\n",
       "    </tr>\n",
       "  </thead>\n",
       "  <tbody>\n",
       "    <tr>\n",
       "      <th>21-186G-1142</th>\n",
       "      <td>22</td>\n",
       "      <td>1255.58</td>\n",
       "      <td>46867.86</td>\n",
       "      <td>2310.34</td>\n",
       "    </tr>\n",
       "    <tr>\n",
       "      <th>21-186G-1225</th>\n",
       "      <td>41</td>\n",
       "      <td>544.48</td>\n",
       "      <td>24726.12</td>\n",
       "      <td>630.90</td>\n",
       "    </tr>\n",
       "    <tr>\n",
       "      <th>21-186G-1227</th>\n",
       "      <td>0</td>\n",
       "      <td>439.88</td>\n",
       "      <td>16137.20</td>\n",
       "      <td>629.16</td>\n",
       "    </tr>\n",
       "    <tr>\n",
       "      <th>21-186G-1232</th>\n",
       "      <td>3</td>\n",
       "      <td>1532.83</td>\n",
       "      <td>57665.19</td>\n",
       "      <td>3375.81</td>\n",
       "    </tr>\n",
       "    <tr>\n",
       "      <th>21-186G-1258</th>\n",
       "      <td>8</td>\n",
       "      <td>1669.30</td>\n",
       "      <td>64477.12</td>\n",
       "      <td>3196.04</td>\n",
       "    </tr>\n",
       "  </tbody>\n",
       "</table>\n",
       "</div>"
      ],
      "text/plain": [
       "               q      v_l     sum_b  percent\n",
       "id                                          \n",
       "21-186G-1142  22  1255.58  46867.86  2310.34\n",
       "21-186G-1225  41   544.48  24726.12   630.90\n",
       "21-186G-1227   0   439.88  16137.20   629.16\n",
       "21-186G-1232   3  1532.83  57665.19  3375.81\n",
       "21-186G-1258   8  1669.30  64477.12  3196.04"
      ]
     },
     "execution_count": 94,
     "metadata": {},
     "output_type": "execute_result"
    }
   ],
   "source": [
    "agg_test = df_test.groupby('id')['q', 'v_l', 'sum_b', 'percent'].sum()\n",
    "agg_test.head()"
   ]
  },
  {
   "cell_type": "code",
   "execution_count": 123,
   "metadata": {},
   "outputs": [
    {
     "data": {
      "text/html": [
       "<div>\n",
       "<table border=\"1\" class=\"dataframe\">\n",
       "  <thead>\n",
       "    <tr style=\"text-align: right;\">\n",
       "      <th></th>\n",
       "      <th>target</th>\n",
       "      <th>date</th>\n",
       "      <th>id</th>\n",
       "    </tr>\n",
       "  </thead>\n",
       "  <tbody>\n",
       "    <tr>\n",
       "      <th>0</th>\n",
       "      <td>0</td>\n",
       "      <td>2016-03-01</td>\n",
       "      <td>21-186G-1161</td>\n",
       "    </tr>\n",
       "    <tr>\n",
       "      <th>1</th>\n",
       "      <td>1</td>\n",
       "      <td>2016-04-01</td>\n",
       "      <td>21-186G-1161</td>\n",
       "    </tr>\n",
       "    <tr>\n",
       "      <th>2</th>\n",
       "      <td>1</td>\n",
       "      <td>2016-07-01</td>\n",
       "      <td>21-186G-1161</td>\n",
       "    </tr>\n",
       "    <tr>\n",
       "      <th>3</th>\n",
       "      <td>0</td>\n",
       "      <td>2016-09-01</td>\n",
       "      <td>21-186G-1161</td>\n",
       "    </tr>\n",
       "    <tr>\n",
       "      <th>4</th>\n",
       "      <td>0</td>\n",
       "      <td>2016-10-01</td>\n",
       "      <td>21-186G-1161</td>\n",
       "    </tr>\n",
       "  </tbody>\n",
       "</table>\n",
       "</div>"
      ],
      "text/plain": [
       "   target        date            id\n",
       "0       0  2016-03-01  21-186G-1161\n",
       "1       1  2016-04-01  21-186G-1161\n",
       "2       1  2016-07-01  21-186G-1161\n",
       "3       0  2016-09-01  21-186G-1161\n",
       "4       0  2016-10-01  21-186G-1161"
      ]
     },
     "execution_count": 123,
     "metadata": {},
     "output_type": "execute_result"
    }
   ],
   "source": [
    "agg_test = pd.read_csv('train_target.csv')\n",
    "agg_test.head()"
   ]
  },
  {
   "cell_type": "code",
   "execution_count": 105,
   "metadata": {
    "collapsed": true
   },
   "outputs": [],
   "source": [
    "my_pred = clf.predict_proba(agg_test)"
   ]
  },
  {
   "cell_type": "code",
   "execution_count": 106,
   "metadata": {
    "collapsed": true
   },
   "outputs": [],
   "source": [
    "my_pred = [x[1] for x in my_pred]"
   ]
  },
  {
   "cell_type": "code",
   "execution_count": 107,
   "metadata": {},
   "outputs": [
    {
     "data": {
      "text/html": [
       "<div>\n",
       "<table border=\"1\" class=\"dataframe\">\n",
       "  <thead>\n",
       "    <tr style=\"text-align: right;\">\n",
       "      <th></th>\n",
       "      <th>id</th>\n",
       "      <th>proba</th>\n",
       "    </tr>\n",
       "  </thead>\n",
       "  <tbody>\n",
       "    <tr>\n",
       "      <th>0</th>\n",
       "      <td>21-186G-1142</td>\n",
       "      <td>0.988061</td>\n",
       "    </tr>\n",
       "    <tr>\n",
       "      <th>1</th>\n",
       "      <td>21-186G-1225</td>\n",
       "      <td>0.988061</td>\n",
       "    </tr>\n",
       "    <tr>\n",
       "      <th>2</th>\n",
       "      <td>21-186G-1227</td>\n",
       "      <td>0.986572</td>\n",
       "    </tr>\n",
       "    <tr>\n",
       "      <th>3</th>\n",
       "      <td>21-186G-1232</td>\n",
       "      <td>0.986411</td>\n",
       "    </tr>\n",
       "    <tr>\n",
       "      <th>4</th>\n",
       "      <td>21-186G-1258</td>\n",
       "      <td>0.988061</td>\n",
       "    </tr>\n",
       "  </tbody>\n",
       "</table>\n",
       "</div>"
      ],
      "text/plain": [
       "             id     proba\n",
       "0  21-186G-1142  0.988061\n",
       "1  21-186G-1225  0.988061\n",
       "2  21-186G-1227  0.986572\n",
       "3  21-186G-1232  0.986411\n",
       "4  21-186G-1258  0.988061"
      ]
     },
     "execution_count": 107,
     "metadata": {},
     "output_type": "execute_result"
    }
   ],
   "source": [
    "pred = pd.DataFrame()\n",
    "pred['id'] = agg_test.index\n",
    "pred['proba'] = my_pred\n",
    "pred.head()"
   ]
  },
  {
   "cell_type": "code",
   "execution_count": 108,
   "metadata": {
    "collapsed": true
   },
   "outputs": [],
   "source": [
    "pred.to_csv('subm.csv', index=False)"
   ]
  },
  {
   "cell_type": "code",
   "execution_count": 72,
   "metadata": {},
   "outputs": [
    {
     "data": {
      "text/plain": [
       "True    31122\n",
       "Name: proba, dtype: int64"
      ]
     },
     "execution_count": 72,
     "metadata": {},
     "output_type": "execute_result"
    }
   ],
   "source": [
    "pred['proba'].value_counts()"
   ]
  },
  {
   "cell_type": "code",
   "execution_count": null,
   "metadata": {
    "collapsed": true
   },
   "outputs": [],
   "source": []
  },
  {
   "cell_type": "code",
   "execution_count": 82,
   "metadata": {
    "collapsed": true
   },
   "outputs": [],
   "source": [
    "def make_target(df, test_start):\n",
    "    test_next_month = test_start.month + 1 if test_start.month != 12 else 1\n",
    "    test_end = test_start.replace(month=test_next_month)\n",
    "    users = df[['user_id']][df['datetime'] < test_start].drop_duplicates()\n",
    "    zeros = df[(df['datetime'] >= test_start) & (df['datetime'] < test_end)]['user_id'].unique()\n",
    "    del df\n",
    "    users['target'] = 1\n",
    "    users['target'][users['user_id'].isin(zeros)] = 0\n",
    "    users = users.set_index('user_id')['target']\n",
    "    return users"
   ]
  },
  {
   "cell_type": "code",
   "execution_count": 115,
   "metadata": {},
   "outputs": [
    {
     "data": {
      "text/plain": [
       "datetime.datetime(2017, 12, 1, 0, 0)"
      ]
     },
     "execution_count": 115,
     "metadata": {},
     "output_type": "execute_result"
    }
   ],
   "source": [
    "from datetime import datetime\n",
    "\n",
    "datetime_object = datetime.strptime('2017-12-01', '%Y-%m-%d')\n",
    "datetime_object"
   ]
  },
  {
   "cell_type": "code",
   "execution_count": 114,
   "metadata": {},
   "outputs": [
    {
     "ename": "AttributeError",
     "evalue": "type object 'datetime.datetime' has no attribute 'datetime'",
     "output_type": "error",
     "traceback": [
      "\u001b[0;31m---------------------------------------------------------------------------\u001b[0m",
      "\u001b[0;31mAttributeError\u001b[0m                            Traceback (most recent call last)",
      "\u001b[0;32m<ipython-input-114-9ca849a8a649>\u001b[0m in \u001b[0;36m<module>\u001b[0;34m()\u001b[0m\n\u001b[0;32m----> 1\u001b[0;31m \u001b[0mmake_target\u001b[0m\u001b[0;34m(\u001b[0m\u001b[0mtrain\u001b[0m\u001b[0;34m,\u001b[0m \u001b[0mdatetime\u001b[0m\u001b[0;34m.\u001b[0m\u001b[0mdatetime\u001b[0m\u001b[0;34m(\u001b[0m\u001b[0mdatetime\u001b[0m\u001b[0;34m.\u001b[0m\u001b[0mstrptime\u001b[0m\u001b[0;34m(\u001b[0m\u001b[0;34m'2017-12-01'\u001b[0m\u001b[0;34m,\u001b[0m \u001b[0;34m'%Y-%m-%d'\u001b[0m\u001b[0;34m)\u001b[0m\u001b[0;34m)\u001b[0m\u001b[0;34m)\u001b[0m\u001b[0;34m\u001b[0m\u001b[0m\n\u001b[0m",
      "\u001b[0;31mAttributeError\u001b[0m: type object 'datetime.datetime' has no attribute 'datetime'"
     ]
    }
   ],
   "source": [
    "make_target(train, datetime.datetime(datetime.strptime('2017-12-01', '%Y-%m-%d')))"
   ]
  },
  {
   "cell_type": "code",
   "execution_count": 84,
   "metadata": {},
   "outputs": [
    {
     "data": {
      "text/html": [
       "<div>\n",
       "<table border=\"1\" class=\"dataframe\">\n",
       "  <thead>\n",
       "    <tr style=\"text-align: right;\">\n",
       "      <th></th>\n",
       "      <th>time</th>\n",
       "      <th>date</th>\n",
       "      <th>v_l</th>\n",
       "      <th>q</th>\n",
       "      <th>n_tr</th>\n",
       "      <th>sum_b</th>\n",
       "      <th>code_azs</th>\n",
       "      <th>id</th>\n",
       "      <th>first_prch</th>\n",
       "      <th>location</th>\n",
       "      <th>region</th>\n",
       "      <th>code</th>\n",
       "      <th>code1</th>\n",
       "      <th>percent</th>\n",
       "      <th>type</th>\n",
       "    </tr>\n",
       "  </thead>\n",
       "  <tbody>\n",
       "    <tr>\n",
       "      <th>64</th>\n",
       "      <td>14:33:02</td>\n",
       "      <td>2017-11-29</td>\n",
       "      <td>46.62</td>\n",
       "      <td>0</td>\n",
       "      <td>2017</td>\n",
       "      <td>1818.11</td>\n",
       "      <td>5915.0</td>\n",
       "      <td>21-8B2-7693</td>\n",
       "      <td>27.12.16 23:06:11</td>\n",
       "      <td>10.0</td>\n",
       "      <td>454.5</td>\n",
       "      <td>1010121</td>\n",
       "      <td>126.0</td>\n",
       "      <td>0.0</td>\n",
       "      <td>7</td>\n",
       "    </tr>\n",
       "    <tr>\n",
       "      <th>68</th>\n",
       "      <td>15:23:54</td>\n",
       "      <td>2017-11-02</td>\n",
       "      <td>14.30</td>\n",
       "      <td>0</td>\n",
       "      <td>2017</td>\n",
       "      <td>544.83</td>\n",
       "      <td>5915.0</td>\n",
       "      <td>21-8B2-7693</td>\n",
       "      <td>04.01.17 19:51:33</td>\n",
       "      <td>10.0</td>\n",
       "      <td>454.5</td>\n",
       "      <td>1010121</td>\n",
       "      <td>126.0</td>\n",
       "      <td>0.0</td>\n",
       "      <td>13</td>\n",
       "    </tr>\n",
       "    <tr>\n",
       "      <th>81</th>\n",
       "      <td>06:31:36</td>\n",
       "      <td>2017-11-17</td>\n",
       "      <td>0.00</td>\n",
       "      <td>1</td>\n",
       "      <td>2017</td>\n",
       "      <td>35.45</td>\n",
       "      <td>10767.0</td>\n",
       "      <td>21-8B2-7693</td>\n",
       "      <td>04.01.17 19:51:33</td>\n",
       "      <td>9.0</td>\n",
       "      <td>454.5</td>\n",
       "      <td>2240000</td>\n",
       "      <td>154.0</td>\n",
       "      <td>0.0</td>\n",
       "      <td>6</td>\n",
       "    </tr>\n",
       "    <tr>\n",
       "      <th>82</th>\n",
       "      <td>06:31:35</td>\n",
       "      <td>2017-11-17</td>\n",
       "      <td>0.00</td>\n",
       "      <td>1</td>\n",
       "      <td>2017</td>\n",
       "      <td>71.82</td>\n",
       "      <td>10767.0</td>\n",
       "      <td>21-8B2-7693</td>\n",
       "      <td>04.01.17 19:51:33</td>\n",
       "      <td>9.0</td>\n",
       "      <td>454.5</td>\n",
       "      <td>2210000</td>\n",
       "      <td>202.0</td>\n",
       "      <td>0.0</td>\n",
       "      <td>6</td>\n",
       "    </tr>\n",
       "    <tr>\n",
       "      <th>105</th>\n",
       "      <td>18:32:24</td>\n",
       "      <td>2017-11-06</td>\n",
       "      <td>12.59</td>\n",
       "      <td>0</td>\n",
       "      <td>2017</td>\n",
       "      <td>454.54</td>\n",
       "      <td>2454.0</td>\n",
       "      <td>21-8B2-7685</td>\n",
       "      <td>10.02.17 20:53:33</td>\n",
       "      <td>9.0</td>\n",
       "      <td>455.5</td>\n",
       "      <td>1010121</td>\n",
       "      <td>126.0</td>\n",
       "      <td>0.0</td>\n",
       "      <td>13</td>\n",
       "    </tr>\n",
       "  </tbody>\n",
       "</table>\n",
       "</div>"
      ],
      "text/plain": [
       "         time        date    v_l  q  n_tr    sum_b  code_azs           id  \\\n",
       "64   14:33:02  2017-11-29  46.62  0  2017  1818.11    5915.0  21-8B2-7693   \n",
       "68   15:23:54  2017-11-02  14.30  0  2017   544.83    5915.0  21-8B2-7693   \n",
       "81   06:31:36  2017-11-17   0.00  1  2017    35.45   10767.0  21-8B2-7693   \n",
       "82   06:31:35  2017-11-17   0.00  1  2017    71.82   10767.0  21-8B2-7693   \n",
       "105  18:32:24  2017-11-06  12.59  0  2017   454.54    2454.0  21-8B2-7685   \n",
       "\n",
       "            first_prch  location  region     code  code1  percent  type  \n",
       "64   27.12.16 23:06:11      10.0   454.5  1010121  126.0      0.0     7  \n",
       "68   04.01.17 19:51:33      10.0   454.5  1010121  126.0      0.0    13  \n",
       "81   04.01.17 19:51:33       9.0   454.5  2240000  154.0      0.0     6  \n",
       "82   04.01.17 19:51:33       9.0   454.5  2210000  202.0      0.0     6  \n",
       "105  10.02.17 20:53:33       9.0   455.5  1010121  126.0      0.0    13  "
      ]
     },
     "execution_count": 84,
     "metadata": {},
     "output_type": "execute_result"
    }
   ],
   "source": [
    "train.month = \n",
    "train.head()"
   ]
  },
  {
   "cell_type": "code",
   "execution_count": 121,
   "metadata": {},
   "outputs": [
    {
     "data": {
      "text/html": [
       "<div>\n",
       "<table border=\"1\" class=\"dataframe\">\n",
       "  <thead>\n",
       "    <tr style=\"text-align: right;\">\n",
       "      <th></th>\n",
       "      <th>id</th>\n",
       "      <th>proba</th>\n",
       "    </tr>\n",
       "  </thead>\n",
       "  <tbody>\n",
       "    <tr>\n",
       "      <th>0</th>\n",
       "      <td>21-186G-1142</td>\n",
       "      <td>0.844298</td>\n",
       "    </tr>\n",
       "    <tr>\n",
       "      <th>1</th>\n",
       "      <td>21-186G-1227</td>\n",
       "      <td>0.844298</td>\n",
       "    </tr>\n",
       "    <tr>\n",
       "      <th>2</th>\n",
       "      <td>21-186G-1306</td>\n",
       "      <td>0.844298</td>\n",
       "    </tr>\n",
       "    <tr>\n",
       "      <th>3</th>\n",
       "      <td>21-186G-1310</td>\n",
       "      <td>0.844298</td>\n",
       "    </tr>\n",
       "    <tr>\n",
       "      <th>4</th>\n",
       "      <td>21-186G-1358</td>\n",
       "      <td>0.844298</td>\n",
       "    </tr>\n",
       "  </tbody>\n",
       "</table>\n",
       "</div>"
      ],
      "text/plain": [
       "             id     proba\n",
       "0  21-186G-1142  0.844298\n",
       "1  21-186G-1227  0.844298\n",
       "2  21-186G-1306  0.844298\n",
       "3  21-186G-1310  0.844298\n",
       "4  21-186G-1358  0.844298"
      ]
     },
     "execution_count": 121,
     "metadata": {},
     "output_type": "execute_result"
    }
   ],
   "source": [
    "subm['proba'] = 0.8442978201619481\n",
    "subm.to_csv('subm.csv', index=False)\n",
    "subm.head()"
   ]
  },
  {
   "cell_type": "code",
   "execution_count": 109,
   "metadata": {},
   "outputs": [
    {
     "data": {
      "text/html": [
       "<div>\n",
       "<table border=\"1\" class=\"dataframe\">\n",
       "  <thead>\n",
       "    <tr style=\"text-align: right;\">\n",
       "      <th></th>\n",
       "      <th>time</th>\n",
       "      <th>date</th>\n",
       "      <th>v_l</th>\n",
       "      <th>q</th>\n",
       "      <th>n_tr</th>\n",
       "      <th>sum_b</th>\n",
       "      <th>code_azs</th>\n",
       "      <th>id</th>\n",
       "      <th>first_prch</th>\n",
       "      <th>location</th>\n",
       "      <th>region</th>\n",
       "      <th>code</th>\n",
       "      <th>code1</th>\n",
       "      <th>percent</th>\n",
       "      <th>type</th>\n",
       "    </tr>\n",
       "  </thead>\n",
       "  <tbody>\n",
       "    <tr>\n",
       "      <th>64</th>\n",
       "      <td>14:33:02</td>\n",
       "      <td>2017-11-29</td>\n",
       "      <td>46.62</td>\n",
       "      <td>0</td>\n",
       "      <td>2017</td>\n",
       "      <td>1818.11</td>\n",
       "      <td>5915.0</td>\n",
       "      <td>21-8B2-7693</td>\n",
       "      <td>27.12.16 23:06:11</td>\n",
       "      <td>10.0</td>\n",
       "      <td>454.5</td>\n",
       "      <td>1010121</td>\n",
       "      <td>126.0</td>\n",
       "      <td>0.0</td>\n",
       "      <td>7</td>\n",
       "    </tr>\n",
       "    <tr>\n",
       "      <th>68</th>\n",
       "      <td>15:23:54</td>\n",
       "      <td>2017-11-02</td>\n",
       "      <td>14.30</td>\n",
       "      <td>0</td>\n",
       "      <td>2017</td>\n",
       "      <td>544.83</td>\n",
       "      <td>5915.0</td>\n",
       "      <td>21-8B2-7693</td>\n",
       "      <td>04.01.17 19:51:33</td>\n",
       "      <td>10.0</td>\n",
       "      <td>454.5</td>\n",
       "      <td>1010121</td>\n",
       "      <td>126.0</td>\n",
       "      <td>0.0</td>\n",
       "      <td>13</td>\n",
       "    </tr>\n",
       "    <tr>\n",
       "      <th>81</th>\n",
       "      <td>06:31:36</td>\n",
       "      <td>2017-11-17</td>\n",
       "      <td>0.00</td>\n",
       "      <td>1</td>\n",
       "      <td>2017</td>\n",
       "      <td>35.45</td>\n",
       "      <td>10767.0</td>\n",
       "      <td>21-8B2-7693</td>\n",
       "      <td>04.01.17 19:51:33</td>\n",
       "      <td>9.0</td>\n",
       "      <td>454.5</td>\n",
       "      <td>2240000</td>\n",
       "      <td>154.0</td>\n",
       "      <td>0.0</td>\n",
       "      <td>6</td>\n",
       "    </tr>\n",
       "    <tr>\n",
       "      <th>82</th>\n",
       "      <td>06:31:35</td>\n",
       "      <td>2017-11-17</td>\n",
       "      <td>0.00</td>\n",
       "      <td>1</td>\n",
       "      <td>2017</td>\n",
       "      <td>71.82</td>\n",
       "      <td>10767.0</td>\n",
       "      <td>21-8B2-7693</td>\n",
       "      <td>04.01.17 19:51:33</td>\n",
       "      <td>9.0</td>\n",
       "      <td>454.5</td>\n",
       "      <td>2210000</td>\n",
       "      <td>202.0</td>\n",
       "      <td>0.0</td>\n",
       "      <td>6</td>\n",
       "    </tr>\n",
       "    <tr>\n",
       "      <th>105</th>\n",
       "      <td>18:32:24</td>\n",
       "      <td>2017-11-06</td>\n",
       "      <td>12.59</td>\n",
       "      <td>0</td>\n",
       "      <td>2017</td>\n",
       "      <td>454.54</td>\n",
       "      <td>2454.0</td>\n",
       "      <td>21-8B2-7685</td>\n",
       "      <td>10.02.17 20:53:33</td>\n",
       "      <td>9.0</td>\n",
       "      <td>455.5</td>\n",
       "      <td>1010121</td>\n",
       "      <td>126.0</td>\n",
       "      <td>0.0</td>\n",
       "      <td>13</td>\n",
       "    </tr>\n",
       "  </tbody>\n",
       "</table>\n",
       "</div>"
      ],
      "text/plain": [
       "         time        date    v_l  q  n_tr    sum_b  code_azs           id  \\\n",
       "64   14:33:02  2017-11-29  46.62  0  2017  1818.11    5915.0  21-8B2-7693   \n",
       "68   15:23:54  2017-11-02  14.30  0  2017   544.83    5915.0  21-8B2-7693   \n",
       "81   06:31:36  2017-11-17   0.00  1  2017    35.45   10767.0  21-8B2-7693   \n",
       "82   06:31:35  2017-11-17   0.00  1  2017    71.82   10767.0  21-8B2-7693   \n",
       "105  18:32:24  2017-11-06  12.59  0  2017   454.54    2454.0  21-8B2-7685   \n",
       "\n",
       "            first_prch  location  region     code  code1  percent  type  \n",
       "64   27.12.16 23:06:11      10.0   454.5  1010121  126.0      0.0     7  \n",
       "68   04.01.17 19:51:33      10.0   454.5  1010121  126.0      0.0    13  \n",
       "81   04.01.17 19:51:33       9.0   454.5  2240000  154.0      0.0     6  \n",
       "82   04.01.17 19:51:33       9.0   454.5  2210000  202.0      0.0     6  \n",
       "105  10.02.17 20:53:33       9.0   455.5  1010121  126.0      0.0    13  "
      ]
     },
     "execution_count": 109,
     "metadata": {},
     "output_type": "execute_result"
    }
   ],
   "source": [
    "train.head()"
   ]
  },
  {
   "cell_type": "code",
   "execution_count": null,
   "metadata": {
    "collapsed": true
   },
   "outputs": [],
   "source": []
  }
 ],
 "metadata": {
  "kernelspec": {
   "display_name": "Python 3",
   "language": "python",
   "name": "python3"
  },
  "language_info": {
   "codemirror_mode": {
    "name": "ipython",
    "version": 3
   },
   "file_extension": ".py",
   "mimetype": "text/x-python",
   "name": "python",
   "nbconvert_exporter": "python",
   "pygments_lexer": "ipython3",
   "version": "3.5.2"
  }
 },
 "nbformat": 4,
 "nbformat_minor": 2
}
